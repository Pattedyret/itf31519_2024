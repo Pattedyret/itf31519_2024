{
 "cells": [
  {
   "cell_type": "markdown",
   "metadata": {},
   "source": [
    "# Comparing Decision Trees and Naive Bayes for Heart Failure Prediction"
   ]
  },
  {
   "cell_type": "code",
   "execution_count": 176,
   "metadata": {},
   "outputs": [],
   "source": [
    "# Notebook for Workshop: Compare DecisionTrees and Naive Bayes for Heart Failure Prediction\n",
    "# https://hiof.instructure.com/courses/8923/assignments/41052\n",
    "\n",
    "import pandas as pd\n",
    "import numpy as np\n",
    "from sklearn.naive_bayes import GaussianNB\n",
    "from sklearn.tree import DecisionTreeClassifier\n",
    "from sklearn.metrics import accuracy_score, precision_score, recall_score, f1_score, roc_auc_score, confusion_matrix, classification_report\n",
    "from sklearn.metrics import ConfusionMatrixDisplay, RocCurveDisplay"
   ]
  },
  {
   "cell_type": "markdown",
   "metadata": {},
   "source": [
    "I've added some markdown cells that provide some tips into how to discuss results"
   ]
  },
  {
   "cell_type": "code",
   "execution_count": 177,
   "metadata": {},
   "outputs": [
    {
     "data": {
      "text/html": [
       "<div>\n",
       "<style scoped>\n",
       "    .dataframe tbody tr th:only-of-type {\n",
       "        vertical-align: middle;\n",
       "    }\n",
       "\n",
       "    .dataframe tbody tr th {\n",
       "        vertical-align: top;\n",
       "    }\n",
       "\n",
       "    .dataframe thead th {\n",
       "        text-align: right;\n",
       "    }\n",
       "</style>\n",
       "<table border=\"1\" class=\"dataframe\">\n",
       "  <thead>\n",
       "    <tr style=\"text-align: right;\">\n",
       "      <th></th>\n",
       "      <th>age</th>\n",
       "      <th>anaemia</th>\n",
       "      <th>creatinine_phosphokinase</th>\n",
       "      <th>diabetes</th>\n",
       "      <th>ejection_fraction</th>\n",
       "      <th>high_blood_pressure</th>\n",
       "      <th>platelets</th>\n",
       "      <th>serum_creatinine</th>\n",
       "      <th>serum_sodium</th>\n",
       "      <th>sex</th>\n",
       "      <th>smoking</th>\n",
       "      <th>time</th>\n",
       "      <th>DEATH_EVENT</th>\n",
       "    </tr>\n",
       "  </thead>\n",
       "  <tbody>\n",
       "    <tr>\n",
       "      <th>0</th>\n",
       "      <td>75.0</td>\n",
       "      <td>0</td>\n",
       "      <td>582</td>\n",
       "      <td>0</td>\n",
       "      <td>20</td>\n",
       "      <td>1</td>\n",
       "      <td>265000.00</td>\n",
       "      <td>1.9</td>\n",
       "      <td>130</td>\n",
       "      <td>1</td>\n",
       "      <td>0</td>\n",
       "      <td>4</td>\n",
       "      <td>1</td>\n",
       "    </tr>\n",
       "    <tr>\n",
       "      <th>1</th>\n",
       "      <td>55.0</td>\n",
       "      <td>0</td>\n",
       "      <td>7861</td>\n",
       "      <td>0</td>\n",
       "      <td>38</td>\n",
       "      <td>0</td>\n",
       "      <td>263358.03</td>\n",
       "      <td>1.1</td>\n",
       "      <td>136</td>\n",
       "      <td>1</td>\n",
       "      <td>0</td>\n",
       "      <td>6</td>\n",
       "      <td>1</td>\n",
       "    </tr>\n",
       "    <tr>\n",
       "      <th>2</th>\n",
       "      <td>65.0</td>\n",
       "      <td>0</td>\n",
       "      <td>146</td>\n",
       "      <td>0</td>\n",
       "      <td>20</td>\n",
       "      <td>0</td>\n",
       "      <td>162000.00</td>\n",
       "      <td>1.3</td>\n",
       "      <td>129</td>\n",
       "      <td>1</td>\n",
       "      <td>1</td>\n",
       "      <td>7</td>\n",
       "      <td>1</td>\n",
       "    </tr>\n",
       "    <tr>\n",
       "      <th>3</th>\n",
       "      <td>50.0</td>\n",
       "      <td>1</td>\n",
       "      <td>111</td>\n",
       "      <td>0</td>\n",
       "      <td>20</td>\n",
       "      <td>0</td>\n",
       "      <td>210000.00</td>\n",
       "      <td>1.9</td>\n",
       "      <td>137</td>\n",
       "      <td>1</td>\n",
       "      <td>0</td>\n",
       "      <td>7</td>\n",
       "      <td>1</td>\n",
       "    </tr>\n",
       "    <tr>\n",
       "      <th>4</th>\n",
       "      <td>65.0</td>\n",
       "      <td>1</td>\n",
       "      <td>160</td>\n",
       "      <td>1</td>\n",
       "      <td>20</td>\n",
       "      <td>0</td>\n",
       "      <td>327000.00</td>\n",
       "      <td>2.7</td>\n",
       "      <td>116</td>\n",
       "      <td>0</td>\n",
       "      <td>0</td>\n",
       "      <td>8</td>\n",
       "      <td>1</td>\n",
       "    </tr>\n",
       "  </tbody>\n",
       "</table>\n",
       "</div>"
      ],
      "text/plain": [
       "    age  anaemia  creatinine_phosphokinase  diabetes  ejection_fraction  \\\n",
       "0  75.0        0                       582         0                 20   \n",
       "1  55.0        0                      7861         0                 38   \n",
       "2  65.0        0                       146         0                 20   \n",
       "3  50.0        1                       111         0                 20   \n",
       "4  65.0        1                       160         1                 20   \n",
       "\n",
       "   high_blood_pressure  platelets  serum_creatinine  serum_sodium  sex  \\\n",
       "0                    1  265000.00               1.9           130    1   \n",
       "1                    0  263358.03               1.1           136    1   \n",
       "2                    0  162000.00               1.3           129    1   \n",
       "3                    0  210000.00               1.9           137    1   \n",
       "4                    0  327000.00               2.7           116    0   \n",
       "\n",
       "   smoking  time  DEATH_EVENT  \n",
       "0        0     4            1  \n",
       "1        0     6            1  \n",
       "2        1     7            1  \n",
       "3        0     7            1  \n",
       "4        0     8            1  "
      ]
     },
     "execution_count": 177,
     "metadata": {},
     "output_type": "execute_result"
    }
   ],
   "source": [
    "# Load the dataset and show first 5 rows\n",
    "\n",
    "dataset = pd.read_csv('heart_failure_clinical_records_dataset.csv')\n",
    "dataset.head()"
   ]
  },
  {
   "cell_type": "code",
   "execution_count": 178,
   "metadata": {},
   "outputs": [
    {
     "data": {
      "text/plain": [
       "array([[<Axes: title={'center': 'age'}>,\n",
       "        <Axes: title={'center': 'anaemia'}>,\n",
       "        <Axes: title={'center': 'creatinine_phosphokinase'}>,\n",
       "        <Axes: title={'center': 'diabetes'}>],\n",
       "       [<Axes: title={'center': 'ejection_fraction'}>,\n",
       "        <Axes: title={'center': 'high_blood_pressure'}>,\n",
       "        <Axes: title={'center': 'platelets'}>,\n",
       "        <Axes: title={'center': 'serum_creatinine'}>],\n",
       "       [<Axes: title={'center': 'serum_sodium'}>,\n",
       "        <Axes: title={'center': 'sex'}>,\n",
       "        <Axes: title={'center': 'smoking'}>,\n",
       "        <Axes: title={'center': 'time'}>],\n",
       "       [<Axes: title={'center': 'DEATH_EVENT'}>, <Axes: >, <Axes: >,\n",
       "        <Axes: >]], dtype=object)"
      ]
     },
     "execution_count": 178,
     "metadata": {},
     "output_type": "execute_result"
    },
    {
     "data": {
      "image/png": "[encoded data removed]",
      "text/plain": [
       "<Figure size 640x480 with 16 Axes>"
      ]
     },
     "metadata": {},
     "output_type": "display_data"
    }
   ],
   "source": [
    "# Show the distribution of all the columns (both features and targets). We do this \n",
    "# to explore our data so that we better know how to proceed with the training.\n",
    "\n",
    "dataset.hist()"
   ]
  },
  {
   "cell_type": "markdown",
   "metadata": {},
   "source": [
    "We did this analysis to determine which version of naive bayes to use. We can see that some of the features are what we can consider normally distributed and some are binary. The normally distributed features aren't necessarily bell shaped like we would expect for normally distributed data, but they are closer to normally distributed than the alternative (binary/frequency).\n",
    "\n",
    "The fact that we have two different types of distributions in our features means that we might have to create a custom classifier that combines a gaussian and bernoulli classifier to achieve optimal performance."
   ]
  },
  {
   "cell_type": "code",
   "execution_count": 179,
   "metadata": {},
   "outputs": [],
   "source": [
    "# Split into 60/20/20. 60% for training, 20% validation, and 20% for final testing\n",
    "\n",
    "trainval = dataset.groupby('DEATH_EVENT', group_keys=False).apply(lambda x: x.sample(frac=0.8))\n",
    "test = dataset.drop(trainval.index)\n",
    "# 75% of 80% is 60% of total\n",
    "train = trainval.groupby('DEATH_EVENT', group_keys=False).apply(lambda x: x.sample(frac=0.75))\n",
    "validation = trainval.drop(train.index)"
   ]
  },
  {
   "cell_type": "code",
   "execution_count": 180,
   "metadata": {},
   "outputs": [],
   "source": [
    "# Separate input features from targets in all partitions\n",
    "\n",
    "train_features = train.drop('DEATH_EVENT', axis=1)\n",
    "train_targets = train['DEATH_EVENT']\n",
    "\n",
    "validation_features = validation.drop('DEATH_EVENT', axis=1)\n",
    "validation_targets = validation['DEATH_EVENT']\n",
    "\n",
    "test_features = test.drop('DEATH_EVENT', axis=1)\n",
    "test_targets = test.DEATH_EVENT"
   ]
  },
  {
   "cell_type": "code",
   "execution_count": 181,
   "metadata": {},
   "outputs": [
    {
     "data": {
      "text/html": [
       "<style>#sk-container-id-24 {color: black;}#sk-container-id-24 pre{padding: 0;}#sk-container-id-24 div.sk-toggleable {background-color: white;}#sk-container-id-24 label.sk-toggleable__label {cursor: pointer;display: block;width: 100%;margin-bottom: 0;padding: 0.3em;box-sizing: border-box;text-align: center;}#sk-container-id-24 label.sk-toggleable__label-arrow:before {content: \"▸\";float: left;margin-right: 0.25em;color: #696969;}#sk-container-id-24 label.sk-toggleable__label-arrow:hover:before {color: black;}#sk-container-id-24 div.sk-estimator:hover label.sk-toggleable__label-arrow:before {color: black;}#sk-container-id-24 div.sk-toggleable__content {max-height: 0;max-width: 0;overflow: hidden;text-align: left;background-color: #f0f8ff;}#sk-container-id-24 div.sk-toggleable__content pre {margin: 0.2em;color: black;border-radius: 0.25em;background-color: #f0f8ff;}#sk-container-id-24 input.sk-toggleable__control:checked~div.sk-toggleable__content {max-height: 200px;max-width: 100%;overflow: auto;}#sk-container-id-24 input.sk-toggleable__control:checked~label.sk-toggleable__label-arrow:before {content: \"▾\";}#sk-container-id-24 div.sk-estimator input.sk-toggleable__control:checked~label.sk-toggleable__label {background-color: #d4ebff;}#sk-container-id-24 div.sk-label input.sk-toggleable__control:checked~label.sk-toggleable__label {background-color: #d4ebff;}#sk-container-id-24 input.sk-hidden--visually {border: 0;clip: rect(1px 1px 1px 1px);clip: rect(1px, 1px, 1px, 1px);height: 1px;margin: -1px;overflow: hidden;padding: 0;position: absolute;width: 1px;}#sk-container-id-24 div.sk-estimator {font-family: monospace;background-color: #f0f8ff;border: 1px dotted black;border-radius: 0.25em;box-sizing: border-box;margin-bottom: 0.5em;}#sk-container-id-24 div.sk-estimator:hover {background-color: #d4ebff;}#sk-container-id-24 div.sk-parallel-item::after {content: \"\";width: 100%;border-bottom: 1px solid gray;flex-grow: 1;}#sk-container-id-24 div.sk-label:hover label.sk-toggleable__label {background-color: #d4ebff;}#sk-container-id-24 div.sk-serial::before {content: \"\";position: absolute;border-left: 1px solid gray;box-sizing: border-box;top: 0;bottom: 0;left: 50%;z-index: 0;}#sk-container-id-24 div.sk-serial {display: flex;flex-direction: column;align-items: center;background-color: white;padding-right: 0.2em;padding-left: 0.2em;position: relative;}#sk-container-id-24 div.sk-item {position: relative;z-index: 1;}#sk-container-id-24 div.sk-parallel {display: flex;align-items: stretch;justify-content: center;background-color: white;position: relative;}#sk-container-id-24 div.sk-item::before, #sk-container-id-24 div.sk-parallel-item::before {content: \"\";position: absolute;border-left: 1px solid gray;box-sizing: border-box;top: 0;bottom: 0;left: 50%;z-index: -1;}#sk-container-id-24 div.sk-parallel-item {display: flex;flex-direction: column;z-index: 1;position: relative;background-color: white;}#sk-container-id-24 div.sk-parallel-item:first-child::after {align-self: flex-end;width: 50%;}#sk-container-id-24 div.sk-parallel-item:last-child::after {align-self: flex-start;width: 50%;}#sk-container-id-24 div.sk-parallel-item:only-child::after {width: 0;}#sk-container-id-24 div.sk-dashed-wrapped {border: 1px dashed gray;margin: 0 0.4em 0.5em 0.4em;box-sizing: border-box;padding-bottom: 0.4em;background-color: white;}#sk-container-id-24 div.sk-label label {font-family: monospace;font-weight: bold;display: inline-block;line-height: 1.2em;}#sk-container-id-24 div.sk-label-container {text-align: center;}#sk-container-id-24 div.sk-container {/* jupyter's `normalize.less` sets `[hidden] { display: none; }` but bootstrap.min.css set `[hidden] { display: none !important; }` so we also need the `!important` here to be able to override the default hidden behavior on the sphinx rendered scikit-learn.org. See: https://github.com/scikit-learn/scikit-learn/issues/21755 */display: inline-block !important;position: relative;}#sk-container-id-24 div.sk-text-repr-fallback {display: none;}</style><div id=\"sk-container-id-24\" class=\"sk-top-container\"><div class=\"sk-text-repr-fallback\"><pre>DecisionTreeClassifier()</pre><b>In a Jupyter environment, please rerun this cell to show the HTML representation or trust the notebook. <br />On GitHub, the HTML representation is unable to render, please try loading this page with nbviewer.org.</b></div><div class=\"sk-container\" hidden><div class=\"sk-item\"><div class=\"sk-estimator sk-toggleable\"><input class=\"sk-toggleable__control sk-hidden--visually\" id=\"sk-estimator-id-24\" type=\"checkbox\" checked><label for=\"sk-estimator-id-24\" class=\"sk-toggleable__label sk-toggleable__label-arrow\">DecisionTreeClassifier</label><div class=\"sk-toggleable__content\"><pre>DecisionTreeClassifier()</pre></div></div></div></div></div>"
      ],
      "text/plain": [
       "DecisionTreeClassifier()"
      ]
     },
     "execution_count": 181,
     "metadata": {},
     "output_type": "execute_result"
    }
   ],
   "source": [
    "# Train a classifier with default parameters\n",
    "\n",
    "dt1 = DecisionTreeClassifier()\n",
    "dt1.fit(train_features, train_targets)"
   ]
  },
  {
   "cell_type": "code",
   "execution_count": 182,
   "metadata": {},
   "outputs": [
    {
     "data": {
      "text/plain": [
       "0.711864406779661"
      ]
     },
     "execution_count": 182,
     "metadata": {},
     "output_type": "execute_result"
    }
   ],
   "source": [
    "# Evaluate the performance of the classifier using the default metrics for classifiers, accuracy\n",
    "\n",
    "dt1.score(validation_features, validation_targets)"
   ]
  },
  {
   "cell_type": "code",
   "execution_count": 183,
   "metadata": {},
   "outputs": [],
   "source": [
    "# A custom function for evaluation the performance using accuracy, precision, recall, f1 and roc_auc\n",
    "# The final_eval parameter makes the evaluation include test data\n",
    "def evaluate(model, final_eval=False):\n",
    "\n",
    "    # Store the prediction probabilites and the predictions. We need the probabilities for \n",
    "    # roc_auc_score metric\n",
    "\n",
    "    train_probabilities = model.predict_proba(train_features)\n",
    "    # train_predictions = model.predict(train_features)\n",
    "    # This does the same as the statement above without having the model predict again\n",
    "    train_predictions = model.classes_.take(np.argmax(train_probabilities, axis=1), axis=0)\n",
    "    validation_probabilities = model.predict_proba(validation_features)\n",
    "    # validation_predictions = model.predict(validation_features)\n",
    "    validation_predictions = model.classes_.take(np.argmax(validation_probabilities, axis=1), axis=0)\n",
    "\n",
    "    # Print the training and validation scores\n",
    "\n",
    "    print(f'Training Accuracy: {accuracy_score(train_targets, train_predictions)}')\n",
    "    print(f'Training Precision: {precision_score(train_targets, train_predictions)}')\n",
    "    print(f'Training Recall: {recall_score(train_targets, train_predictions)}')\n",
    "    print(f'Training F1: {f1_score(train_targets, train_predictions)}')\n",
    "    print(f'Training ROC AUC: {roc_auc_score(train_targets, train_probabilities[:,1])}')\n",
    "    print(f'Validation Accuracy: {accuracy_score(validation_targets, validation_predictions)}')\n",
    "    print(f'Validation Precision: {precision_score(validation_targets, validation_predictions)}')\n",
    "    print(f'Validation Recall: {recall_score(validation_targets, validation_predictions)}')\n",
    "    print(f'Validation F1: {f1_score(validation_targets, validation_predictions)}')\n",
    "    print(f'Validation ROC AUC: {roc_auc_score(validation_targets, validation_probabilities[:,1])}')\n",
    "    \n",
    "    # Evaluate and print the final test scores if final_eval is True\n",
    "    \n",
    "    if final_eval:\n",
    "        test_probabilities = model.predict_proba(test_features)\n",
    "        test_predictions = model.classes_.take(np.argmax(test_probabilities, axis=1), axis=0)\n",
    "\n",
    "        print(f'Test Accuracy: {accuracy_score(test_targets, test_predictions)}')\n",
    "        print(f'Test Precision: {precision_score(test_targets, test_predictions)}')\n",
    "        print(f'Test Recall: {recall_score(test_targets, test_predictions)}')\n",
    "        print(f'Test F1: {f1_score(test_targets, test_predictions)}')\n",
    "        print(f'Test ROC AUC: {roc_auc_score(test_targets, test_probabilities[:,1])}')\n"
   ]
  },
  {
   "cell_type": "code",
   "execution_count": 184,
   "metadata": {},
   "outputs": [
    {
     "name": "stdout",
     "output_type": "stream",
     "text": [
      "Training Accuracy: 1.0\n",
      "Training Precision: 1.0\n",
      "Training Recall: 1.0\n",
      "Training F1: 1.0\n",
      "Training ROC AUC: 1.0\n",
      "Validation Accuracy: 0.711864406779661\n",
      "Validation Precision: 0.5555555555555556\n",
      "Validation Recall: 0.5263157894736842\n",
      "Validation F1: 0.5405405405405405\n",
      "Validation ROC AUC: 0.6631578947368422\n"
     ]
    }
   ],
   "source": [
    "# Evaluate our model using our custom evaluate function\n",
    "\n",
    "evaluate(dt1)"
   ]
  },
  {
   "cell_type": "markdown",
   "metadata": {},
   "source": [
    "Observations:\n",
    "* model1 is highly overfitted, test results for f1 has dropped with almost 28 percentage points, other metrics have dropped significantly\n",
    "* the model has a slignt tendency towards precision, meaning that the it is restrictive in predicting heart failures but that it is quite accurate when making the prediction\n"
   ]
  },
  {
   "cell_type": "code",
   "execution_count": 185,
   "metadata": {},
   "outputs": [
    {
     "data": {
      "text/plain": [
       "'              precision    recall  f1-score   support\\n\\n           0       0.78      0.80      0.79        40\\n           1       0.56      0.53      0.54        19\\n\\n    accuracy                           0.71        59\\n   macro avg       0.67      0.66      0.67        59\\nweighted avg       0.71      0.71      0.71        59\\n'"
      ]
     },
     "execution_count": 185,
     "metadata": {},
     "output_type": "execute_result"
    }
   ],
   "source": [
    "# Similar reports can be created using the builtin classification_report, but it is\n",
    "# recommended to create your own\n",
    "\n",
    "classification_report(validation_targets, dt1.predict(validation_features))"
   ]
  },
  {
   "cell_type": "code",
   "execution_count": 186,
   "metadata": {},
   "outputs": [
    {
     "name": "stdout",
     "output_type": "stream",
     "text": [
      "Training Accuracy: 0.8666666666666667\n",
      "Training Precision: 0.9473684210526315\n",
      "Training Recall: 0.6206896551724138\n",
      "Training F1: 0.75\n",
      "Training ROC AUC: 0.8812182023742227\n",
      "Validation Accuracy: 0.7796610169491526\n",
      "Validation Precision: 0.7142857142857143\n",
      "Validation Recall: 0.5263157894736842\n",
      "Validation F1: 0.6060606060606061\n",
      "Validation ROC AUC: 0.7789473684210527\n"
     ]
    }
   ],
   "source": [
    "# Train a new classifier with max_depth set to 2 i.e. the produced decision tree will \n",
    "# never be deeper than 2 levels. This is a somewhat arbitraty choice of both parameter and \n",
    "# value. \n",
    "\n",
    "# Read the documentation for the classification algorithm to understand how the parameteres work, \n",
    "# and make different models based on your understanding of what might improve the results. \n",
    "# A random approach might also be a viable approach, but, with manual hyperparameter tuning, \n",
    "# this approach will take a long time. \n",
    "# \n",
    "# Note that you are expected to be able to explain and discuss how\n",
    "# different hyperparameters affect results, both in the mandatory assignments and the \n",
    "# oral exam\n",
    "\n",
    "dt2 = DecisionTreeClassifier(max_depth=2)\n",
    "dt2.fit(train_features, train_targets)\n",
    "evaluate(dt2)"
   ]
  },
  {
   "cell_type": "markdown",
   "metadata": {},
   "source": [
    "Observations\n",
    "* This model is overfitted as well, but not to the same extent as the dt1 \n",
    "* Like the first model, the model has better precision than recall, but here the tendency is much greater and we can see the trend in both the training and test results\n",
    "* dt2 performs better than dt1 in all metrics (the same for recall) for validation data i.e. we must assume it is the best of the two"
   ]
  },
  {
   "cell_type": "code",
   "execution_count": 187,
   "metadata": {},
   "outputs": [
    {
     "name": "stdout",
     "output_type": "stream",
     "text": [
      "Training Accuracy: 1.0\n",
      "Training Precision: 1.0\n",
      "Training Recall: 1.0\n",
      "Training F1: 1.0\n",
      "Training ROC AUC: 1.0\n",
      "Validation Accuracy: 0.711864406779661\n",
      "Validation Precision: 0.5555555555555556\n",
      "Validation Recall: 0.5263157894736842\n",
      "Validation F1: 0.5405405405405405\n",
      "Validation ROC AUC: 0.6631578947368422\n",
      "Test Accuracy: 0.7333333333333333\n",
      "Test Precision: 0.56\n",
      "Test Recall: 0.7368421052631579\n",
      "Test F1: 0.6363636363636364\n",
      "Test ROC AUC: 0.7342747111681642\n",
      "Training Accuracy: 0.8666666666666667\n",
      "Training Precision: 0.9473684210526315\n",
      "Training Recall: 0.6206896551724138\n",
      "Training F1: 0.75\n",
      "Training ROC AUC: 0.8812182023742227\n",
      "Validation Accuracy: 0.7796610169491526\n",
      "Validation Precision: 0.7142857142857143\n",
      "Validation Recall: 0.5263157894736842\n",
      "Validation F1: 0.6060606060606061\n",
      "Validation ROC AUC: 0.7789473684210527\n",
      "Test Accuracy: 0.8166666666666667\n",
      "Test Precision: 0.8333333333333334\n",
      "Test Recall: 0.5263157894736842\n",
      "Test F1: 0.6451612903225806\n",
      "Test ROC AUC: 0.8446726572528883\n"
     ]
    }
   ],
   "source": [
    "# Do final evaluation with the best models only. In this example we have only two, \n",
    "# so we test both.\n",
    "\n",
    "evaluate(dt1, final_eval=True)\n",
    "evaluate(dt2, final_eval=True)"
   ]
  },
  {
   "cell_type": "code",
   "execution_count": 188,
   "metadata": {},
   "outputs": [
    {
     "data": {
      "text/plain": [
       "array([[39,  2],\n",
       "       [ 9, 10]])"
      ]
     },
     "execution_count": 188,
     "metadata": {},
     "output_type": "execute_result"
    }
   ],
   "source": [
    "# Calculate the confusion matrix for the best decision tree model.\n",
    "\n",
    "confusion_matrix(test_targets, dt2.predict(test_features))"
   ]
  },
  {
   "cell_type": "code",
   "execution_count": 189,
   "metadata": {},
   "outputs": [
    {
     "data": {
      "text/plain": [
       "<sklearn.metrics._plot.confusion_matrix.ConfusionMatrixDisplay at 0x7d27b27a2790>"
      ]
     },
     "execution_count": 189,
     "metadata": {},
     "output_type": "execute_result"
    },
    {
     "data": {
      "image/png": "[encoded data removed]",
      "text/plain": [
       "<Figure size 640x480 with 2 Axes>"
      ]
     },
     "metadata": {},
     "output_type": "display_data"
    }
   ],
   "source": [
    "# The ConfusionMatrixDisplay class can be used to make confusion matrix plots\n",
    "\n",
    "ConfusionMatrixDisplay.from_estimator(dt2, test_features, test_targets)"
   ]
  },
  {
   "cell_type": "markdown",
   "metadata": {},
   "source": [
    "The confusion matrix show that dt2 is very accurate in it's predictions (precision), only two false positives. There are however 9 false negatives i.e. 9 failures that wasn't predicted. This could have dramatic consequences in practice."
   ]
  },
  {
   "cell_type": "code",
   "execution_count": 190,
   "metadata": {},
   "outputs": [
    {
     "data": {
      "text/plain": [
       "<sklearn.metrics._plot.roc_curve.RocCurveDisplay at 0x7d27b2648250>"
      ]
     },
     "execution_count": 190,
     "metadata": {},
     "output_type": "execute_result"
    },
    {
     "data": {
      "image/png": "[encoded data removed]",
      "text/plain": [
       "<Figure size 640x480 with 1 Axes>"
      ]
     },
     "metadata": {},
     "output_type": "display_data"
    }
   ],
   "source": [
    "# Plot the ROC curve for the best decision tree model\n",
    "\n",
    "# These two statements achieves the same thing\n",
    "# RocCurveDisplay.from_predictions(test_targets, dt2.predict_proba(test_features)[:,1])\n",
    "RocCurveDisplay.from_estimator(dt2, test_features, test_targets)"
   ]
  },
  {
   "cell_type": "markdown",
   "metadata": {},
   "source": [
    "The ROC curve show very good performance for all sensitivities. This is also shown by the AUC of 0.84"
   ]
  },
  {
   "cell_type": "code",
   "execution_count": 191,
   "metadata": {},
   "outputs": [
    {
     "name": "stdout",
     "output_type": "stream",
     "text": [
      "Training Accuracy: 0.8277777777777777\n",
      "Training Precision: 0.8461538461538461\n",
      "Training Recall: 0.5689655172413793\n",
      "Training F1: 0.6804123711340206\n",
      "Training ROC AUC: 0.8859525155455058\n",
      "Validation Accuracy: 0.7796610169491526\n",
      "Validation Precision: 0.7142857142857143\n",
      "Validation Recall: 0.5263157894736842\n",
      "Validation F1: 0.6060606060606061\n",
      "Validation ROC AUC: 0.7986842105263158\n"
     ]
    }
   ],
   "source": [
    "# Train and evaluate a gaussian naive bayesian classifier with default parameters\n",
    "\n",
    "nb1 = GaussianNB()\n",
    "nb1.fit(train_features, train_targets)\n",
    "evaluate(nb1)"
   ]
  },
  {
   "cell_type": "markdown",
   "metadata": {},
   "source": [
    "* Slight overfitting, but nothing drastic. This fits with the fact that NB classifiers typically generalize better than many other ML algorithms, especially with a limited amount of data.\n",
    "* Better precision than recall"
   ]
  },
  {
   "cell_type": "code",
   "execution_count": 192,
   "metadata": {},
   "outputs": [
    {
     "name": "stdout",
     "output_type": "stream",
     "text": [
      "Training Accuracy: 0.8222222222222222\n",
      "Training Precision: 0.825\n",
      "Training Recall: 0.5689655172413793\n",
      "Training F1: 0.6734693877551021\n",
      "Training ROC AUC: 0.8704070096099491\n",
      "Validation Accuracy: 0.7288135593220338\n",
      "Validation Precision: 0.6153846153846154\n",
      "Validation Recall: 0.42105263157894735\n",
      "Validation F1: 0.5\n",
      "Validation ROC AUC: 0.775\n"
     ]
    }
   ],
   "source": [
    "# Train and evaluate Gaussian NB with 10 times the amount of smoothing to see if we can remove the \n",
    "# overfitting\n",
    "\n",
    "nb2 = GaussianNB(var_smoothing=1e-8)\n",
    "nb2.fit(train_features, train_targets)\n",
    "evaluate(nb2)"
   ]
  },
  {
   "cell_type": "markdown",
   "metadata": {},
   "source": [
    "* Performs worse than nb1, perhaps a less drastic increase in smoothing should be tested"
   ]
  },
  {
   "cell_type": "code",
   "execution_count": 193,
   "metadata": {},
   "outputs": [
    {
     "name": "stdout",
     "output_type": "stream",
     "text": [
      "Training Accuracy: 0.8055555555555556\n",
      "Training Precision: 0.8285714285714286\n",
      "Training Recall: 0.5\n",
      "Training F1: 0.6236559139784946\n",
      "Training ROC AUC: 0.9068682871678915\n",
      "Validation Accuracy: 0.7288135593220338\n",
      "Validation Precision: 0.6153846153846154\n",
      "Validation Recall: 0.42105263157894735\n",
      "Validation F1: 0.5\n",
      "Validation ROC AUC: 0.7855263157894736\n"
     ]
    }
   ],
   "source": [
    "# Train and evaluate Gaussian NB with 10 times less smoothing\n",
    "\n",
    "nb3 = GaussianNB(var_smoothing=1e-10)\n",
    "nb3.fit(train_features, train_targets)\n",
    "evaluate(nb3)"
   ]
  },
  {
   "cell_type": "markdown",
   "metadata": {},
   "source": [
    "* More overfitting, which matches our expectation when less smoothing is applied\n",
    "* Better than nb2, but seemingly not as good as nb1 for validation data "
   ]
  },
  {
   "cell_type": "code",
   "execution_count": 195,
   "metadata": {},
   "outputs": [
    {
     "name": "stdout",
     "output_type": "stream",
     "text": [
      "Training Accuracy: 0.8277777777777777\n",
      "Training Precision: 0.8461538461538461\n",
      "Training Recall: 0.5689655172413793\n",
      "Training F1: 0.6804123711340206\n",
      "Training ROC AUC: 0.8859525155455058\n",
      "Validation Accuracy: 0.7796610169491526\n",
      "Validation Precision: 0.7142857142857143\n",
      "Validation Recall: 0.5263157894736842\n",
      "Validation F1: 0.6060606060606061\n",
      "Validation ROC AUC: 0.7986842105263158\n",
      "Test Accuracy: 0.7333333333333333\n",
      "Test Precision: 0.6363636363636364\n",
      "Test Recall: 0.3684210526315789\n",
      "Test F1: 0.4666666666666667\n",
      "Test ROC AUC: 0.7971758664955071\n",
      "Training Accuracy: 0.8055555555555556\n",
      "Training Precision: 0.8285714285714286\n",
      "Training Recall: 0.5\n",
      "Training F1: 0.6236559139784946\n",
      "Training ROC AUC: 0.9068682871678915\n",
      "Validation Accuracy: 0.7288135593220338\n",
      "Validation Precision: 0.6153846153846154\n",
      "Validation Recall: 0.42105263157894735\n",
      "Validation F1: 0.5\n",
      "Validation ROC AUC: 0.7855263157894736\n",
      "Test Accuracy: 0.7333333333333333\n",
      "Test Precision: 0.6363636363636364\n",
      "Test Recall: 0.3684210526315789\n",
      "Test F1: 0.4666666666666667\n",
      "Test ROC AUC: 0.797175866495507\n"
     ]
    }
   ],
   "source": [
    "# Compare the two best naive bayes classifiers. You should add more \n",
    "# models by testing other parameters and values. For Gaussian NB there is only one more \n",
    "# parameter to test\n",
    "\n",
    "# A combined classifier that uses Gaussian NB for the continuous features and Bernoulli NB \n",
    "# for the binary features could also be tested as an alternative model.\n",
    "\n",
    "evaluate(nb1, final_eval=True)\n",
    "evaluate(nb3, final_eval=True)"
   ]
  },
  {
   "cell_type": "markdown",
   "metadata": {},
   "source": [
    "* The two models performs exactly the same on test data, which makes us have to fall back to validation data in determining which models is the best\n",
    "* nb1 is the better of the two for validation data. (Individual metrics should be discussed)"
   ]
  },
  {
   "cell_type": "code",
   "execution_count": 196,
   "metadata": {},
   "outputs": [
    {
     "data": {
      "text/plain": [
       "<sklearn.metrics._plot.confusion_matrix.ConfusionMatrixDisplay at 0x7d27b27458d0>"
      ]
     },
     "execution_count": 196,
     "metadata": {},
     "output_type": "execute_result"
    },
    {
     "data": {
      "image/png": "[encoded data removed]",
      "text/plain": [
       "<Figure size 640x480 with 2 Axes>"
      ]
     },
     "metadata": {},
     "output_type": "display_data"
    }
   ],
   "source": [
    "# Plot the confusion matrix for the best NB\n",
    "\n",
    "ConfusionMatrixDisplay.from_estimator(nb1, test_features, test_targets)"
   ]
  },
  {
   "cell_type": "code",
   "execution_count": 197,
   "metadata": {},
   "outputs": [
    {
     "data": {
      "text/plain": [
       "<sklearn.metrics._plot.roc_curve.RocCurveDisplay at 0x7d27b319b810>"
      ]
     },
     "execution_count": 197,
     "metadata": {},
     "output_type": "execute_result"
    },
    {
     "data": {
      "image/png": "[encoded data removed]",
      "text/plain": [
       "<Figure size 640x480 with 1 Axes>"
      ]
     },
     "metadata": {},
     "output_type": "display_data"
    }
   ],
   "source": [
    "RocCurveDisplay.from_estimator(nb1, test_features, test_targets)"
   ]
  },
  {
   "cell_type": "code",
   "execution_count": 199,
   "metadata": {},
   "outputs": [
    {
     "name": "stdout",
     "output_type": "stream",
     "text": [
      "Training Accuracy: 0.8666666666666667\n",
      "Training Precision: 0.9473684210526315\n",
      "Training Recall: 0.6206896551724138\n",
      "Training F1: 0.75\n",
      "Training ROC AUC: 0.8812182023742227\n",
      "Validation Accuracy: 0.7796610169491526\n",
      "Validation Precision: 0.7142857142857143\n",
      "Validation Recall: 0.5263157894736842\n",
      "Validation F1: 0.6060606060606061\n",
      "Validation ROC AUC: 0.7789473684210527\n",
      "Test Accuracy: 0.8166666666666667\n",
      "Test Precision: 0.8333333333333334\n",
      "Test Recall: 0.5263157894736842\n",
      "Test F1: 0.6451612903225806\n",
      "Test ROC AUC: 0.8446726572528883\n",
      "Training Accuracy: 0.8277777777777777\n",
      "Training Precision: 0.8461538461538461\n",
      "Training Recall: 0.5689655172413793\n",
      "Training F1: 0.6804123711340206\n",
      "Training ROC AUC: 0.8859525155455058\n",
      "Validation Accuracy: 0.7796610169491526\n",
      "Validation Precision: 0.7142857142857143\n",
      "Validation Recall: 0.5263157894736842\n",
      "Validation F1: 0.6060606060606061\n",
      "Validation ROC AUC: 0.7986842105263158\n",
      "Test Accuracy: 0.7333333333333333\n",
      "Test Precision: 0.6363636363636364\n",
      "Test Recall: 0.3684210526315789\n",
      "Test F1: 0.4666666666666667\n",
      "Test ROC AUC: 0.7971758664955071\n"
     ]
    }
   ],
   "source": [
    "# Here you should add a collected presentation of all the results to make it easy to make the final \n",
    "# conclusion. I've kept it simple here by only showing the evaluation for the best classifiers of \n",
    "# both type\n",
    "\n",
    "evaluate(dt2, final_eval=True)\n",
    "evaluate(nb1, final_eval=True)"
   ]
  },
  {
   "cell_type": "markdown",
   "metadata": {},
   "source": [
    "Based on the metrics shown above we have to conclude that that dt2 is the best classifier for predicting heart failures. Both the confusion matrices and the ROC plots confirm the results. Both classifiers have a significant amount of false negatives, which makes both models complicate to implement in healthcare practice. \n",
    "\n",
    "The results are highly dependent on the random sampling in the data partitions. A more thorough analysis is needed to overcome this issue."
   ]
  },
  {
   "cell_type": "markdown",
   "metadata": {},
   "source": []
  }
 ],
 "metadata": {
  "kernelspec": {
   "display_name": "sklearn",
   "language": "python",
   "name": "python3"
  },
  "language_info": {
   "codemirror_mode": {
    "name": "ipython",
    "version": 3
   },
   "file_extension": ".py",
   "mimetype": "text/x-python",
   "name": "python",
   "nbconvert_exporter": "python",
   "pygments_lexer": "ipython3",
   "version": "3.11.6"
  }
 },
 "nbformat": 4,
 "nbformat_minor": 2
}
